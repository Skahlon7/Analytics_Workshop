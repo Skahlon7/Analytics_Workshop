{
 "cells": [
  {
   "cell_type": "markdown",
   "id": "774ab0dc",
   "metadata": {},
   "source": [
    "## Champions League Data Analytics (2010-2022)\n",
    "- Data cleansing\n",
    "- Descriptive Analytics\n",
    "- Forecasting"
   ]
  },
  {
   "cell_type": "markdown",
   "id": "706ffb8b",
   "metadata": {},
   "source": [
    "## Import Dataset and Libraries"
   ]
  },
  {
   "cell_type": "code",
   "execution_count": 1,
   "id": "10fc455b",
   "metadata": {},
   "outputs": [],
   "source": [
    "import pandas as pd\n",
    "import numpy as np\n",
    "\n",
    "df_attacking = pd.read_csv('/Users/sandeepk/Desktop/DS_Workshop/Summer_Proj/UCL Datasets Folder/attacking.csv')\n",
    "df_attampts = pd.read_csv('/Users/sandeepk/Desktop/DS_Workshop/Summer_Proj/UCL Datasets Folder/attempts.csv')\n",
    "df_defending = pd.read_csv('/Users/sandeepk/Desktop/DS_Workshop/Summer_Proj/UCL Datasets Folder/defending.csv')\n",
    "df_disciplinary = pd.read_csv('/Users/sandeepk/Desktop/DS_Workshop/Summer_Proj/UCL Datasets Folder/disciplinary.csv')\n",
    "df_distributon = pd.read_csv('/Users/sandeepk/Desktop/DS_Workshop/Summer_Proj/UCL Datasets Folder/distributon.csv')\n",
    "df_goalkeeping = pd.read_csv('/Users/sandeepk/Desktop/DS_Workshop/Summer_Proj/UCL Datasets Folder/goalkeeping.csv')\n",
    "df_goals = pd.read_csv('/Users/sandeepk/Desktop/DS_Workshop/Summer_Proj/UCL Datasets Folder/goals.csv')\n",
    "df_key_stats = pd.read_csv('/Users/sandeepk/Desktop/DS_Workshop/Summer_Proj/UCL Datasets Folder/key_stats.csv')"
   ]
  },
  {
   "cell_type": "code",
   "execution_count": 177,
   "id": "9352ea51",
   "metadata": {},
   "outputs": [],
   "source": [
    "#Recieve na reporting\n",
    "ls = list(df_attacking.columns)\n",
    "for x in ls:\n",
    "  if sum(df_attacking[x].isna()) > 0:\n",
    "    print(x)\n",
    "    print(sum(df_attacking[x].isna()))\n",
    "    print()"
   ]
  },
  {
   "cell_type": "markdown",
   "id": "0ddfc62f",
   "metadata": {},
   "source": [
    "## User Input Based Aggregation\n",
    "- GUI + UX\n",
    "    - Display selected player & team total assists/dribbles \n",
    "    - Position average Comparison to selected player"
   ]
  },
  {
   "cell_type": "code",
   "execution_count": 254,
   "id": "908ae9cd",
   "metadata": {},
   "outputs": [
    {
     "name": "stdout",
     "output_type": "stream",
     "text": [
      "Which player Assists would you like to view? Bruno Fernandes\n"
     ]
    },
    {
     "data": {
      "text/html": [
       "<div>\n",
       "<style scoped>\n",
       "    .dataframe tbody tr th:only-of-type {\n",
       "        vertical-align: middle;\n",
       "    }\n",
       "\n",
       "    .dataframe tbody tr th {\n",
       "        vertical-align: top;\n",
       "    }\n",
       "\n",
       "    .dataframe thead th {\n",
       "        text-align: right;\n",
       "    }\n",
       "</style>\n",
       "<table border=\"1\" class=\"dataframe\">\n",
       "  <thead>\n",
       "    <tr style=\"text-align: right;\">\n",
       "      <th></th>\n",
       "      <th>player_name</th>\n",
       "      <th>position</th>\n",
       "      <th>match_played</th>\n",
       "      <th>assists</th>\n",
       "      <th>Position_Avg</th>\n",
       "    </tr>\n",
       "  </thead>\n",
       "  <tbody>\n",
       "    <tr>\n",
       "      <th>0</th>\n",
       "      <td>Bruno Fernandes</td>\n",
       "      <td>Midfielder</td>\n",
       "      <td>7</td>\n",
       "      <td>7</td>\n",
       "      <td>1.67</td>\n",
       "    </tr>\n",
       "  </tbody>\n",
       "</table>\n",
       "</div>"
      ],
      "text/plain": [
       "       player_name    position  match_played  assists  Position_Avg\n",
       "0  Bruno Fernandes  Midfielder             7        7          1.67"
      ]
     },
     "execution_count": 254,
     "metadata": {},
     "output_type": "execute_result"
    }
   ],
   "source": [
    "choice = input('Which player Assists would you like to view? ')\n",
    "\n",
    "ret = df_attacking[df_attacking['player_name'].str.contains(choice)]\n",
    "ret1 = ret.loc[:,['player_name', 'position', 'match_played', 'assists']]\n",
    "index = ret1['position'].iloc[0]\n",
    "\n",
    "sub = df_attacking.groupby('position').agg({'assists':'mean'}).round(2)\n",
    "ans = sub.loc[index]\n",
    "\n",
    "ret1['Position_Avg'] = ans[0]\n",
    "ret1\n"
   ]
  },
  {
   "cell_type": "code",
   "execution_count": 255,
   "id": "887dacc1",
   "metadata": {},
   "outputs": [
    {
     "data": {
      "image/png": "[encoded data removed]",
      "text/plain": [
       "<Figure size 432x288 with 1 Axes>"
      ]
     },
     "metadata": {},
     "output_type": "display_data"
    }
   ],
   "source": [
    "import matplotlib.pyplot as plt\n",
    "N = 1\n",
    "assi = list(ret1.iloc[:,3])\n",
    "po_avg = list(ret1.iloc[:,4])\n",
    "\n",
    "name = list(ret1.iloc[:,0\n",
    "])\n",
    "\n",
    "player_avg = (assi[0])\n",
    "\n",
    "\n",
    "ind = np.arange(N)  \n",
    "width = 0.25      \n",
    "\n",
    "fig = plt.figure()\n",
    "ax = fig.add_subplot(111)\n",
    "rects1 = ax.bar(ind, player_avg, width, color='royalblue')\n",
    "\n",
    "\n",
    "pos_avg = (po_avg[0])\n",
    "\n",
    "rects2 = ax.bar(ind+width, pos_avg, width, color='seagreen')\n",
    "\n",
    "# add some\n",
    "ax.set_ylabel('Assists')\n",
    "ax.set_title('Player Assists vs. Position Average')\n",
    "\n",
    "ax.set_xticks(ind + width / 0.01)\n",
    "ax.set_xticklabels\n",
    "\n",
    "ax.legend( (rects1[0], rects2[0]), (name[0], 'Position Average') )\n",
    "\n",
    "plt.show()"
   ]
  },
  {
   "cell_type": "markdown",
   "id": "18c37380",
   "metadata": {},
   "source": [
    "```GUI```"
   ]
  },
  {
   "cell_type": "code",
   "execution_count": 2,
   "id": "c796ebd2",
   "metadata": {},
   "outputs": [],
   "source": [
    "import tkinter\n",
    "import tkinter.messagebox\n",
    "\n",
    "class PlayerSearchGUI:\n",
    "    def __init__(self):\n",
    "        self.main_window = tkinter.Tk()\n",
    "        self.top_frame = tkinter.Frame(self.main_window)\n",
    "        self.bottom_frame = tkinter.Frame(self.main_window)\n",
    "        \n",
    "        self.prompt_label = tkinter.Label(self.top_frame,\n",
    "                                         text='Enter a player name')\n",
    "        self.player_entry = tkinter.Entry(self.top_frame,\n",
    "                                         width=10)\n",
    "        \n",
    "        self.prompt_label.pack(side='left')\n",
    "        self.player_entry.pack(side='left')\n",
    "        \n",
    "        self.assist_button = tkinter.Button(self.bottom_frame,\n",
    "                                            text = 'Assists',\n",
    "                                            command = self.assists)\n",
    "        self.dribble_button = tkinter.Button(self.bottom_frame,\n",
    "                                            text = 'Dribbles',\n",
    "                                            command = self.drb)\n",
    "        self.goals_button = tkinter.Button(self.bottom_frame,\n",
    "                                          text = 'Goals',\n",
    "                                          command = self.goals)\n",
    "        self.quit_button = tkinter.Button(self.bottom_frame,\n",
    "                                         text = 'Quit',\n",
    "                                         command = self.main_window.destroy)\n",
    "        \n",
    "        self.assist_button.pack(side='left')\n",
    "        self.dribble_button.pack(side='left')\n",
    "        self.goals_button.pack(side='left')\n",
    "        \n",
    "        self.quit_button.pack(side='left')\n",
    "        \n",
    "        self.top_frame.pack()\n",
    "        self.bottom_frame.pack()\n",
    "        \n",
    "        tkinter.mainloop()\n",
    "        \n",
    "    def assists(self):\n",
    "        choice = self.player_entry.get()\n",
    "        ret = df_attacking[df_attacking['player_name'].str.contains(choice)]\n",
    "        ret1 = ret.loc[:,['player_name', 'position', 'match_played', 'assists']]\n",
    "        index = ret1['position'].iloc[0]\n",
    "\n",
    "        sub = df_attacking.groupby('position').agg({'assists':'mean'}).round(2)\n",
    "        z = list(ret1.loc[:, 'assists'])\n",
    "        tkinter.messagebox.showinfo('Assists:', z[0])\n",
    "        \n",
    "    def drb(self):\n",
    "        choice1 = self.player_entry.get()\n",
    "        ret = df_attacking[df_attacking['player_name'].str.contains(choice1)]\n",
    "        ret3 = ret.loc[:,['player_name', 'dribbles']]\n",
    "        y = list(ret1.loc[:, 'dribbles'])\n",
    "        tkinter.messagebox.showinfo('Dribbles:',y[0])\n",
    "    \n",
    "    def goals(self):\n",
    "        choice2 = self.player_entry.get()\n",
    "        ret = df_goals[df_goals['player_name'].str.contains(choice2)]\n",
    "        ret5 = ret.loc[:,['player_name', 'goals']]\n",
    "        g = list(ret5.loc[:, 'goals'])\n",
    "        tkinter.messagebox.showinfo('Goals:',g[0])\n",
    "        \n",
    "        #Can Expand to Defense, etc.\n",
    "player_search = PlayerSearchGUI()\n",
    "        "
   ]
  },
  {
   "cell_type": "code",
   "execution_count": 179,
   "id": "86ae97a0",
   "metadata": {},
   "outputs": [
    {
     "name": "stdout",
     "output_type": "stream",
     "text": [
      "1) Man. United\n",
      "2) Real Madrid\n",
      "3) Bayern\n",
      "4) Ajax\n",
      "5) Liverpool\n",
      "6) Man. City\n",
      "7) Benfica\n",
      "8) Paris\n",
      "9) Villarreal\n",
      "10) Wolfsburg\n",
      "11) Leipzig\n",
      "12) Dortmund\n",
      "13) Atalanta\n",
      "14) Sheriff\n",
      "15) Chelsea\n",
      "16) Beşiktaş\n",
      "17) Juventus\n",
      "18) Sporting CP\n",
      "19) Zenit\n",
      "20) Salzburg\n",
      "21) Atlético\n",
      "22) LOSC\n",
      "23) Inter\n",
      "24) Club Brugge\n",
      "25) Young Boys\n",
      "26) Dynamo Kyiv\n",
      "27) Sevilla\n",
      "28) Shakhtar Donetsk\n",
      "29) Milan\n",
      "30) Porto\n",
      "31) Barcelona\n",
      "32) Malmö\n",
      "Which team assists would you like to view? 2\n"
     ]
    },
    {
     "data": {
      "text/html": [
       "<div>\n",
       "<style scoped>\n",
       "    .dataframe tbody tr th:only-of-type {\n",
       "        vertical-align: middle;\n",
       "    }\n",
       "\n",
       "    .dataframe tbody tr th {\n",
       "        vertical-align: top;\n",
       "    }\n",
       "\n",
       "    .dataframe thead th {\n",
       "        text-align: right;\n",
       "    }\n",
       "</style>\n",
       "<table border=\"1\" class=\"dataframe\">\n",
       "  <thead>\n",
       "    <tr style=\"text-align: right;\">\n",
       "      <th></th>\n",
       "      <th>assists</th>\n",
       "    </tr>\n",
       "    <tr>\n",
       "      <th>club</th>\n",
       "      <th></th>\n",
       "    </tr>\n",
       "  </thead>\n",
       "  <tbody>\n",
       "    <tr>\n",
       "      <th>Real Madrid</th>\n",
       "      <td>21</td>\n",
       "    </tr>\n",
       "  </tbody>\n",
       "</table>\n",
       "</div>"
      ],
      "text/plain": [
       "             assists\n",
       "club                \n",
       "Real Madrid       21"
      ]
     },
     "execution_count": 179,
     "metadata": {},
     "output_type": "execute_result"
    }
   ],
   "source": [
    "#Team Assist Statistics\n",
    "\n",
    "club_ls = list(df_attacking['club'].unique())\n",
    "i = 1\n",
    "for x in club_ls:\n",
    "    print(f'{i}) {x}')\n",
    "    i+=1\n",
    "choice = int(input(\"Which team assists would you like to view? \"))\n",
    "z = club_ls[choice-1]\n",
    "df_club_sum = df_attacking.groupby('club').agg({'assists': 'sum'})\n",
    "df_club_sum[df_club_sum.index == z]"
   ]
  },
  {
   "cell_type": "markdown",
   "id": "9c0b584d",
   "metadata": {},
   "source": [
    "# Top 5 Assists and Scorers in CL\n",
    "        - Assist Per Match and Goals Per Match Statistics\n",
    "        - Performance statistics"
   ]
  },
  {
   "cell_type": "code",
   "execution_count": 356,
   "id": "97f22f91",
   "metadata": {},
   "outputs": [
    {
     "data": {
      "text/html": [
       "<div>\n",
       "<style scoped>\n",
       "    .dataframe tbody tr th:only-of-type {\n",
       "        vertical-align: middle;\n",
       "    }\n",
       "\n",
       "    .dataframe tbody tr th {\n",
       "        vertical-align: top;\n",
       "    }\n",
       "\n",
       "    .dataframe thead th {\n",
       "        text-align: right;\n",
       "    }\n",
       "</style>\n",
       "<table border=\"1\" class=\"dataframe\">\n",
       "  <thead>\n",
       "    <tr style=\"text-align: right;\">\n",
       "      <th></th>\n",
       "      <th>assists</th>\n",
       "      <th>APM</th>\n",
       "    </tr>\n",
       "    <tr>\n",
       "      <th>player_name</th>\n",
       "      <th></th>\n",
       "      <th></th>\n",
       "    </tr>\n",
       "  </thead>\n",
       "  <tbody>\n",
       "    <tr>\n",
       "      <th>Bruno Fernandes</th>\n",
       "      <td>7</td>\n",
       "      <td>1.00</td>\n",
       "    </tr>\n",
       "    <tr>\n",
       "      <th>Vinícius Júnior</th>\n",
       "      <td>6</td>\n",
       "      <td>0.46</td>\n",
       "    </tr>\n",
       "    <tr>\n",
       "      <th>Sané</th>\n",
       "      <td>6</td>\n",
       "      <td>0.60</td>\n",
       "    </tr>\n",
       "    <tr>\n",
       "      <th>Antony</th>\n",
       "      <td>5</td>\n",
       "      <td>0.71</td>\n",
       "    </tr>\n",
       "    <tr>\n",
       "      <th>Alexander-Arnold</th>\n",
       "      <td>4</td>\n",
       "      <td>0.44</td>\n",
       "    </tr>\n",
       "  </tbody>\n",
       "</table>\n",
       "</div>"
      ],
      "text/plain": [
       "                  assists   APM\n",
       "player_name                    \n",
       "Bruno Fernandes         7  1.00\n",
       "Vinícius Júnior         6  0.46\n",
       "Sané                    6  0.60\n",
       "Antony                  5  0.71\n",
       "Alexander-Arnold        4  0.44"
      ]
     },
     "execution_count": 356,
     "metadata": {},
     "output_type": "execute_result"
    }
   ],
   "source": [
    "#Initiate Assists Per Match Statistic\n",
    "df_attacking['APM'] = (df_attacking['assists']/df_attacking['match_played']).round(2)\n",
    "\n",
    "#Aggregate top Assists players + APM\n",
    "df_top_assists = df_attacking.groupby('player_name').agg({'assists':'sum', 'APM':'sum'})\n",
    "df_top_assists.sort_values(by=['assists'], ascending=False, inplace=True)\n",
    "top5_assists = df_top_assists.head(5)\n",
    "top5_assists"
   ]
  },
  {
   "cell_type": "code",
   "execution_count": 357,
   "id": "8e7327f2",
   "metadata": {},
   "outputs": [
    {
     "data": {
      "image/png": "[encoded data removed]",
      "text/plain": [
       "<Figure size 432x288 with 1 Axes>"
      ]
     },
     "metadata": {},
     "output_type": "display_data"
    }
   ],
   "source": [
    "#Bar Graph Visualization of top 5 Assist + APM CL Players\n",
    "\n",
    "#Data\n",
    "x = top5_assists.index\n",
    "y = top5_as \n",
    "\n",
    "#plt.plot(x, y, color = 'm')\n",
    "# creating the bar plot\n",
    "plt.bar(x, y, color ='maroon',\n",
    "        width = 0.4)\n",
    "plt.title('Top 5 Assists + APM CL Players')\n",
    "plt.ylabel('Assists')\n",
    "plt.xlabel('Player Names')\n",
    "\n",
    "# Add text\n",
    "plt.text(-0.25, 3.5, f'{df_top_assists.iloc[0,1]} APM')\n",
    "plt.text(.75, 3.5, f'{df_top_assists.iloc[1,1]} APM')\n",
    "plt.text(1.78, 3.5, f'{df_top_assists.iloc[2,1]} APM')\n",
    "plt.text(2.78, 3.5, f'{df_top_assists.iloc[3,1]} APM')\n",
    "plt.text(3.78, 3.5, f'{df_top_assists.iloc[4,1]} APM')\n",
    "# Display Graph\n",
    "plt.show()"
   ]
  },
  {
   "cell_type": "code",
   "execution_count": 81,
   "id": "b4068082",
   "metadata": {},
   "outputs": [
    {
     "data": {
      "text/html": [
       "<div>\n",
       "<style scoped>\n",
       "    .dataframe tbody tr th:only-of-type {\n",
       "        vertical-align: middle;\n",
       "    }\n",
       "\n",
       "    .dataframe tbody tr th {\n",
       "        vertical-align: top;\n",
       "    }\n",
       "\n",
       "    .dataframe thead th {\n",
       "        text-align: right;\n",
       "    }\n",
       "</style>\n",
       "<table border=\"1\" class=\"dataframe\">\n",
       "  <thead>\n",
       "    <tr style=\"text-align: right;\">\n",
       "      <th></th>\n",
       "      <th>goals</th>\n",
       "      <th>GPM</th>\n",
       "    </tr>\n",
       "    <tr>\n",
       "      <th>player_name</th>\n",
       "      <th></th>\n",
       "      <th></th>\n",
       "    </tr>\n",
       "  </thead>\n",
       "  <tbody>\n",
       "    <tr>\n",
       "      <th>Benzema</th>\n",
       "      <td>15</td>\n",
       "      <td>1.25</td>\n",
       "    </tr>\n",
       "    <tr>\n",
       "      <th>Lewandowski</th>\n",
       "      <td>13</td>\n",
       "      <td>1.30</td>\n",
       "    </tr>\n",
       "    <tr>\n",
       "      <th>Haller</th>\n",
       "      <td>11</td>\n",
       "      <td>1.38</td>\n",
       "    </tr>\n",
       "    <tr>\n",
       "      <th>Salah</th>\n",
       "      <td>8</td>\n",
       "      <td>0.62</td>\n",
       "    </tr>\n",
       "    <tr>\n",
       "      <th>Nkunku</th>\n",
       "      <td>7</td>\n",
       "      <td>1.17</td>\n",
       "    </tr>\n",
       "  </tbody>\n",
       "</table>\n",
       "</div>"
      ],
      "text/plain": [
       "             goals   GPM\n",
       "player_name             \n",
       "Benzema         15  1.25\n",
       "Lewandowski     13  1.30\n",
       "Haller          11  1.38\n",
       "Salah            8  0.62\n",
       "Nkunku           7  1.17"
      ]
     },
     "execution_count": 81,
     "metadata": {},
     "output_type": "execute_result"
    }
   ],
   "source": [
    "df_goals['GPM'] = (df_goals['goals']/df_goals['match_played']).round(2)\n",
    "gls = df_goals.groupby('player_name').agg({'goals':'sum', 'GPM': 'sum'})\n",
    "top5_goals = gls.sort_values(by='goals', ascending=False).head(5)\n",
    "top5_goals"
   ]
  },
  {
   "cell_type": "code",
   "execution_count": 93,
   "id": "7738f9e7",
   "metadata": {},
   "outputs": [],
   "source": [
    "gls_attributes = df_goals.groupby('player_name').agg({'goals':'sum', 'right_foot':'sum', \\\n",
    "                                                     'left_foot': 'sum', 'headers':'sum', \\\n",
    "                                                     'others': 'sum'})\n",
    "gls_attributes1 = gls_attributes.sort_values(by='goals', ascending=False).head(5)"
   ]
  },
  {
   "cell_type": "code",
   "execution_count": 94,
   "id": "3927a29a",
   "metadata": {},
   "outputs": [
    {
     "data": {
      "image/png": "[encoded data removed]",
      "text/plain": [
       "<Figure size 432x288 with 2 Axes>"
      ]
     },
     "metadata": {},
     "output_type": "display_data"
    },
    {
     "data": {
      "image/png": "[encoded data removed]",
      "text/plain": [
       "<Figure size 432x288 with 2 Axes>"
      ]
     },
     "metadata": {},
     "output_type": "display_data"
    },
    {
     "data": {
      "image/png": "[encoded data removed]",
      "text/plain": [
       "<Figure size 432x288 with 2 Axes>"
      ]
     },
     "metadata": {},
     "output_type": "display_data"
    },
    {
     "data": {
      "image/png": "[encoded data removed]",
      "text/plain": [
       "<Figure size 432x288 with 2 Axes>"
      ]
     },
     "metadata": {},
     "output_type": "display_data"
    },
    {
     "data": {
      "image/png": "[encoded data removed]",
      "text/plain": [
       "<Figure size 432x288 with 2 Axes>"
      ]
     },
     "metadata": {},
     "output_type": "display_data"
    }
   ],
   "source": [
    "import seaborn as sns\n",
    "import matplotlib.pyplot as plt\n",
    "for t in range(5):\n",
    "    plt.subplot(1,2,1)\n",
    "    x = list(gls_attributes1.iloc[t,1:])\n",
    "    data = x\n",
    "    labels = ['Right Foot', 'Left Foot', 'Headers', 'Other']\n",
    "\n",
    "    #define Seaborn color palette to use\n",
    "    colors = sns.color_palette('bright')[0:4]\n",
    "    #create pie chart\n",
    "    plt.pie(data, labels = labels, colors = colors, autopct='%.0f%%')\n",
    "    plt.title(gls_attributes1.index[t])\n",
    "    plt.text(-.35, 1.1, f'(Goals={top5_goals.iloc[t,0]})')\n",
    "    \n",
    "    plt.subplot(1,2,2)\n",
    "    df_goals1 = df_goals.copy()\n",
    "    df_goals1['inside_area'] = df_goals1['inside_area'] - df_goals1['penalties']\n",
    "    dist_attributes = df_goals1.groupby('player_name').agg({'goals':'sum', 'inside_area':'sum', \\\n",
    "                                                     'outside_areas': 'sum', 'penalties':'sum'})\n",
    "    dist_attributes1 = dist_attributes.sort_values(by='goals', ascending=False).head(5)\n",
    "    x1 = list(dist_attributes1.iloc[t,1:])\n",
    "    labels = ['Inside Area', 'Outside Area', 'Penalties']\n",
    "    plt.pie(x1, labels = labels, colors = colors, autopct='%.0f%%')\n",
    "    plt.title(gls_attributes1.index[t])\n",
    "    plt.text(-.35, 1.1, f'(Goals={top5_goals.iloc[t,0]})')\n",
    "    plt.tight_layout()\n",
    "    plt.show()\n"
   ]
  },
  {
   "cell_type": "markdown",
   "id": "93cd76ad",
   "metadata": {},
   "source": [
    "# Scatter Viz Goals VS Matches Played"
   ]
  },
  {
   "cell_type": "code",
   "execution_count": 115,
   "id": "7e24cb9b",
   "metadata": {},
   "outputs": [
    {
     "data": {
      "text/plain": [
       "<seaborn.axisgrid.FacetGrid at 0x7fd08d32abb0>"
      ]
     },
     "execution_count": 115,
     "metadata": {},
     "output_type": "execute_result"
    },
    {
     "data": {
      "image/png": "[encoded data removed]",
      "text/plain": [
       "<Figure size 432x288 with 1 Axes>"
      ]
     },
     "metadata": {
      "needs_background": "light"
     },
     "output_type": "display_data"
    },
    {
     "data": {
      "image/png": "[encoded data removed]",
      "text/plain": [
       "<Figure size 446x360 with 1 Axes>"
      ]
     },
     "metadata": {
      "needs_background": "light"
     },
     "output_type": "display_data"
    }
   ],
   "source": [
    "#Scatter\n",
    "sns.scatterplot(data=df_goals, x=\"match_played\", y=\"goals\", \n",
    "                hue=\"position\", size=\"GPM\")\n",
    "\n",
    "sns.lmplot(x=\"match_played\", y=\"goals\", hue=\"position\", data=df_goals)"
   ]
  },
  {
   "cell_type": "markdown",
   "id": "d7da6e87",
   "metadata": {},
   "source": [
    "## Disciplinary Statistics"
   ]
  },
  {
   "cell_type": "code",
   "execution_count": 115,
   "id": "4a5180ad",
   "metadata": {},
   "outputs": [
    {
     "data": {
      "text/html": [
       "<div>\n",
       "<style scoped>\n",
       "    .dataframe tbody tr th:only-of-type {\n",
       "        vertical-align: middle;\n",
       "    }\n",
       "\n",
       "    .dataframe tbody tr th {\n",
       "        vertical-align: top;\n",
       "    }\n",
       "\n",
       "    .dataframe thead th {\n",
       "        text-align: right;\n",
       "    }\n",
       "</style>\n",
       "<table border=\"1\" class=\"dataframe\">\n",
       "  <thead>\n",
       "    <tr style=\"text-align: right;\">\n",
       "      <th></th>\n",
       "      <th>player_name</th>\n",
       "      <th>red</th>\n",
       "      <th>RPM</th>\n",
       "      <th>club</th>\n",
       "      <th>match_played</th>\n",
       "    </tr>\n",
       "  </thead>\n",
       "  <tbody>\n",
       "    <tr>\n",
       "      <th>10</th>\n",
       "      <td>Álvarez</td>\n",
       "      <td>4</td>\n",
       "      <td>0.57</td>\n",
       "      <td>Ajax</td>\n",
       "      <td>7</td>\n",
       "    </tr>\n",
       "    <tr>\n",
       "      <th>55</th>\n",
       "      <td>Arnold</td>\n",
       "      <td>3</td>\n",
       "      <td>0.50</td>\n",
       "      <td>Wolfsburg</td>\n",
       "      <td>6</td>\n",
       "    </tr>\n",
       "    <tr>\n",
       "      <th>23</th>\n",
       "      <td>Addo</td>\n",
       "      <td>3</td>\n",
       "      <td>0.50</td>\n",
       "      <td>Sheriff</td>\n",
       "      <td>6</td>\n",
       "    </tr>\n",
       "    <tr>\n",
       "      <th>418</th>\n",
       "      <td>Lang</td>\n",
       "      <td>3</td>\n",
       "      <td>0.50</td>\n",
       "      <td>Club Brugge</td>\n",
       "      <td>6</td>\n",
       "    </tr>\n",
       "    <tr>\n",
       "      <th>107</th>\n",
       "      <td>Bamba</td>\n",
       "      <td>3</td>\n",
       "      <td>0.50</td>\n",
       "      <td>LOSC</td>\n",
       "      <td>6</td>\n",
       "    </tr>\n",
       "    <tr>\n",
       "      <th>251</th>\n",
       "      <td>Dulanto</td>\n",
       "      <td>3</td>\n",
       "      <td>0.50</td>\n",
       "      <td>Sheriff</td>\n",
       "      <td>6</td>\n",
       "    </tr>\n",
       "    <tr>\n",
       "      <th>94</th>\n",
       "      <td>Lo Celso</td>\n",
       "      <td>3</td>\n",
       "      <td>0.50</td>\n",
       "      <td>Villarreal</td>\n",
       "      <td>6</td>\n",
       "    </tr>\n",
       "    <tr>\n",
       "      <th>270</th>\n",
       "      <td>Matheus Nunes</td>\n",
       "      <td>3</td>\n",
       "      <td>0.50</td>\n",
       "      <td>Sporting CP</td>\n",
       "      <td>6</td>\n",
       "    </tr>\n",
       "    <tr>\n",
       "      <th>163</th>\n",
       "      <td>Xeka</td>\n",
       "      <td>3</td>\n",
       "      <td>0.43</td>\n",
       "      <td>LOSC</td>\n",
       "      <td>7</td>\n",
       "    </tr>\n",
       "    <tr>\n",
       "      <th>16</th>\n",
       "      <td>Capaldo</td>\n",
       "      <td>3</td>\n",
       "      <td>0.43</td>\n",
       "      <td>Salzburg</td>\n",
       "      <td>7</td>\n",
       "    </tr>\n",
       "  </tbody>\n",
       "</table>\n",
       "</div>"
      ],
      "text/plain": [
       "       player_name  red   RPM         club  match_played\n",
       "10         Álvarez    4  0.57         Ajax             7\n",
       "55          Arnold    3  0.50    Wolfsburg             6\n",
       "23            Addo    3  0.50      Sheriff             6\n",
       "418           Lang    3  0.50  Club Brugge             6\n",
       "107          Bamba    3  0.50         LOSC             6\n",
       "251        Dulanto    3  0.50      Sheriff             6\n",
       "94        Lo Celso    3  0.50   Villarreal             6\n",
       "270  Matheus Nunes    3  0.50  Sporting CP             6\n",
       "163           Xeka    3  0.43         LOSC             7\n",
       "16         Capaldo    3  0.43     Salzburg             7"
      ]
     },
     "execution_count": 115,
     "metadata": {},
     "output_type": "execute_result"
    }
   ],
   "source": [
    "df_disc1 = df_disciplinary.copy()\n",
    "df_disc1 = df_disc1[df_disc1['match_played'] >=6]\n",
    "\n",
    "\n",
    "\n",
    "\n",
    "\n",
    "df_disc1['RPM'] = (df_disc1['red']/df_disc1['match_played']).round(2)\n",
    "df_disciplinary['tot_cards'] = df_disciplinary['red'] + df_disciplinary['yellow']\n",
    "red_p = df_disc1[['player_name', 'red', 'RPM', 'club', 'match_played']]\n",
    "red_p.sort_values(by='RPM', ascending=False).head(10)"
   ]
  },
  {
   "cell_type": "code",
   "execution_count": 117,
   "id": "30482c9a",
   "metadata": {},
   "outputs": [
    {
     "data": {
      "text/html": [
       "<div>\n",
       "<style scoped>\n",
       "    .dataframe tbody tr th:only-of-type {\n",
       "        vertical-align: middle;\n",
       "    }\n",
       "\n",
       "    .dataframe tbody tr th {\n",
       "        vertical-align: top;\n",
       "    }\n",
       "\n",
       "    .dataframe thead th {\n",
       "        text-align: right;\n",
       "    }\n",
       "</style>\n",
       "<table border=\"1\" class=\"dataframe\">\n",
       "  <thead>\n",
       "    <tr style=\"text-align: right;\">\n",
       "      <th></th>\n",
       "      <th>red</th>\n",
       "      <th>yellow</th>\n",
       "      <th>tot_cards</th>\n",
       "      <th>club1</th>\n",
       "    </tr>\n",
       "    <tr>\n",
       "      <th>club</th>\n",
       "      <th></th>\n",
       "      <th></th>\n",
       "      <th></th>\n",
       "      <th></th>\n",
       "    </tr>\n",
       "  </thead>\n",
       "  <tbody>\n",
       "    <tr>\n",
       "      <th>Atlético</th>\n",
       "      <td>25</td>\n",
       "      <td>4</td>\n",
       "      <td>29</td>\n",
       "      <td>Atlético</td>\n",
       "    </tr>\n",
       "    <tr>\n",
       "      <th>Wolfsburg</th>\n",
       "      <td>25</td>\n",
       "      <td>2</td>\n",
       "      <td>27</td>\n",
       "      <td>Wolfsburg</td>\n",
       "    </tr>\n",
       "    <tr>\n",
       "      <th>Real Madrid</th>\n",
       "      <td>25</td>\n",
       "      <td>0</td>\n",
       "      <td>25</td>\n",
       "      <td>Real Madrid</td>\n",
       "    </tr>\n",
       "    <tr>\n",
       "      <th>Villarreal</th>\n",
       "      <td>24</td>\n",
       "      <td>2</td>\n",
       "      <td>26</td>\n",
       "      <td>Villarreal</td>\n",
       "    </tr>\n",
       "    <tr>\n",
       "      <th>LOSC</th>\n",
       "      <td>24</td>\n",
       "      <td>0</td>\n",
       "      <td>24</td>\n",
       "      <td>LOSC</td>\n",
       "    </tr>\n",
       "    <tr>\n",
       "      <th>Man. City</th>\n",
       "      <td>21</td>\n",
       "      <td>1</td>\n",
       "      <td>22</td>\n",
       "      <td>Man. City</td>\n",
       "    </tr>\n",
       "    <tr>\n",
       "      <th>Sevilla</th>\n",
       "      <td>20</td>\n",
       "      <td>2</td>\n",
       "      <td>22</td>\n",
       "      <td>Sevilla</td>\n",
       "    </tr>\n",
       "    <tr>\n",
       "      <th>Benfica</th>\n",
       "      <td>19</td>\n",
       "      <td>0</td>\n",
       "      <td>19</td>\n",
       "      <td>Benfica</td>\n",
       "    </tr>\n",
       "    <tr>\n",
       "      <th>Paris</th>\n",
       "      <td>19</td>\n",
       "      <td>0</td>\n",
       "      <td>19</td>\n",
       "      <td>Paris</td>\n",
       "    </tr>\n",
       "    <tr>\n",
       "      <th>Sporting CP</th>\n",
       "      <td>17</td>\n",
       "      <td>0</td>\n",
       "      <td>17</td>\n",
       "      <td>Sporting CP</td>\n",
       "    </tr>\n",
       "  </tbody>\n",
       "</table>\n",
       "</div>"
      ],
      "text/plain": [
       "             red  yellow  tot_cards        club1\n",
       "club                                            \n",
       "Atlético      25       4         29     Atlético\n",
       "Wolfsburg     25       2         27    Wolfsburg\n",
       "Real Madrid   25       0         25  Real Madrid\n",
       "Villarreal    24       2         26   Villarreal\n",
       "LOSC          24       0         24         LOSC\n",
       "Man. City     21       1         22    Man. City\n",
       "Sevilla       20       2         22      Sevilla\n",
       "Benfica       19       0         19      Benfica\n",
       "Paris         19       0         19        Paris\n",
       "Sporting CP   17       0         17  Sporting CP"
      ]
     },
     "execution_count": 117,
     "metadata": {},
     "output_type": "execute_result"
    }
   ],
   "source": [
    "#df_disciplinary[df_disciplinary['player_name'] == 'Álvarez']\n",
    "r_club = df_disciplinary.groupby('club').agg({'red': 'sum', 'yellow': 'sum', 'tot_cards': \\\n",
    "                                             'sum'})\n",
    "r_club = r_club.sort_values(by='red', ascending=False).head(10)\n",
    "\n",
    "rindex = r_club.index\n",
    "r_club['club1'] = r_club.index\n",
    "r_club"
   ]
  },
  {
   "cell_type": "code",
   "execution_count": 103,
   "id": "9b0efd8f",
   "metadata": {},
   "outputs": [
    {
     "data": {
      "text/plain": [
       "<AxesSubplot:xlabel='club1', ylabel='red'>"
      ]
     },
     "execution_count": 103,
     "metadata": {},
     "output_type": "execute_result"
    },
    {
     "data": {
      "image/png": "[encoded data removed]",
      "text/plain": [
       "<Figure size 432x1080 with 1 Axes>"
      ]
     },
     "metadata": {},
     "output_type": "display_data"
    }
   ],
   "source": [
    "import seaborn as sns\n",
    "import matplotlib.pyplot as plt\n",
    "sns.set_theme(style=\"whitegrid\")\n",
    "\n",
    "# Initialize the matplotlib figure\n",
    "f, ax = plt.subplots(figsize=(6, 15))\n",
    "\n",
    "# Load the example car crash dataset\n",
    "crashes = sns.load_dataset(\"car_crashes\").sort_values(\"total\", ascending=False)\n",
    "\n",
    "# Plot the total crashes\n",
    "sns.set_color_codes(\"dark\")\n",
    "sns.barplot(x=\"club1\", y=\"red\", data=r_club,\n",
    "            label=\"Total\", color=\"b\")\n"
   ]
  },
  {
   "cell_type": "code",
   "execution_count": 120,
   "id": "74a48b73",
   "metadata": {},
   "outputs": [
    {
     "data": {
      "text/plain": [
       "<AxesSubplot:xlabel='club1'>"
      ]
     },
     "execution_count": 120,
     "metadata": {},
     "output_type": "execute_result"
    },
    {
     "data": {
      "image/png": "[encoded data removed]",
      "text/plain": [
       "<Figure size 432x288 with 1 Axes>"
      ]
     },
     "metadata": {},
     "output_type": "display_data"
    }
   ],
   "source": [
    "r_club.plot(x='club1', y=['tot_cards', 'red', 'yellow'], kind=\"bar\")"
   ]
  },
  {
   "cell_type": "code",
   "execution_count": 119,
   "id": "6a4447cd",
   "metadata": {},
   "outputs": [],
   "source": [
    "import sqlite3\n",
    "import pandas as pd\n",
    "\n",
    "con = sqlite3.connect(\"/Users/sandeepk/Desktop/test-DS/DS311-Technologies-in-Data-Analytic/Week_4_SQL_Queries/Lab_Assignment/data.sqllite\")\n",
    "cursor = con.cursor()"
   ]
  }
 ],
 "metadata": {
  "kernelspec": {
   "display_name": "Python 3 (ipykernel)",
   "language": "python",
   "name": "python3"
  },
  "language_info": {
   "codemirror_mode": {
    "name": "ipython",
    "version": 3
   },
   "file_extension": ".py",
   "mimetype": "text/x-python",
   "name": "python",
   "nbconvert_exporter": "python",
   "pygments_lexer": "ipython3",
   "version": "3.9.7"
  }
 },
 "nbformat": 4,
 "nbformat_minor": 5
}
