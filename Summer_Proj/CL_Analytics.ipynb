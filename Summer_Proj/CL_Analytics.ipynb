{
 "cells": [
  {
   "cell_type": "markdown",
   "id": "774ab0dc",
   "metadata": {},
   "source": [
    "## Champions League Data Analytics (2010-2022)\n",
    "- Data cleansing\n",
    "- Descriptive Analytics\n",
    "- Forecasting"
   ]
  }
 ],
 "metadata": {
  "kernelspec": {
   "display_name": "Python 3 (ipykernel)",
   "language": "python",
   "name": "python3"
  },
  "language_info": {
   "codemirror_mode": {
    "name": "ipython",
    "version": 3
   },
   "file_extension": ".py",
   "mimetype": "text/x-python",
   "name": "python",
   "nbconvert_exporter": "python",
   "pygments_lexer": "ipython3",
   "version": "3.8.8"
  }
 },
 "nbformat": 4,
 "nbformat_minor": 5
}
