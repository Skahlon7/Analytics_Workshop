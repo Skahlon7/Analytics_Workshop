{
 "cells": [
  {
   "cell_type": "markdown",
   "id": "774ab0dc",
   "metadata": {},
   "source": [
    "## Champions League Data Analytics (2010-2022)\n",
    "- Data cleansing\n",
    "- Descriptive Analytics\n",
    "- Forecasting"
   ]
  },
  {
   "cell_type": "markdown",
   "id": "706ffb8b",
   "metadata": {},
   "source": [
    "## Import Dataset and Libraries"
   ]
  },
  {
   "cell_type": "code",
   "execution_count": 176,
   "id": "10fc455b",
   "metadata": {},
   "outputs": [],
   "source": [
    "import pandas as pd\n",
    "import numpy as np\n",
    "\n",
    "df_attacking = pd.read_csv('/Users/sandeepk/Desktop/DS_Workshop/Summer_Proj/UCL Datasets Folder/attacking.csv')\n",
    "df_attampts = pd.read_csv('/Users/sandeepk/Desktop/DS_Workshop/Summer_Proj/UCL Datasets Folder/attempts.csv')\n",
    "df_defending = pd.read_csv('/Users/sandeepk/Desktop/DS_Workshop/Summer_Proj/UCL Datasets Folder/defending.csv')\n",
    "df_disciplinary = pd.read_csv('/Users/sandeepk/Desktop/DS_Workshop/Summer_Proj/UCL Datasets Folder/disciplinary.csv')\n",
    "df_distributon = pd.read_csv('/Users/sandeepk/Desktop/DS_Workshop/Summer_Proj/UCL Datasets Folder/distributon.csv')\n",
    "df_goalkeeping = pd.read_csv('/Users/sandeepk/Desktop/DS_Workshop/Summer_Proj/UCL Datasets Folder/goalkeeping.csv')\n",
    "df_goals = pd.read_csv('/Users/sandeepk/Desktop/DS_Workshop/Summer_Proj/UCL Datasets Folder/goals.csv')\n",
    "df_key_stats = pd.read_csv('/Users/sandeepk/Desktop/DS_Workshop/Summer_Proj/UCL Datasets Folder/key_stats.csv')"
   ]
  },
  {
   "cell_type": "code",
   "execution_count": 177,
   "id": "9352ea51",
   "metadata": {},
   "outputs": [],
   "source": [
    "#Recieve na reporting\n",
    "ls = list(df_attacking.columns)\n",
    "for x in ls:\n",
    "  if sum(df_attacking[x].isna()) > 0:\n",
    "    print(x)\n",
    "    print(sum(df_attacking[x].isna()))\n",
    "    print()"
   ]
  },
  {
   "cell_type": "markdown",
   "id": "0ddfc62f",
   "metadata": {},
   "source": [
    "## User Input Based Aggregation\n",
    "- GUI + UX\n",
    "    - Display selected player & team total assists/dribbles \n",
    "    - Position average Comparison to selected player"
   ]
  },
  {
   "cell_type": "code",
   "execution_count": 254,
   "id": "908ae9cd",
   "metadata": {},
   "outputs": [
    {
     "name": "stdout",
     "output_type": "stream",
     "text": [
      "Which player Assists would you like to view? Bruno Fernandes\n"
     ]
    },
    {
     "data": {
      "text/html": [
       "<div>\n",
       "<style scoped>\n",
       "    .dataframe tbody tr th:only-of-type {\n",
       "        vertical-align: middle;\n",
       "    }\n",
       "\n",
       "    .dataframe tbody tr th {\n",
       "        vertical-align: top;\n",
       "    }\n",
       "\n",
       "    .dataframe thead th {\n",
       "        text-align: right;\n",
       "    }\n",
       "</style>\n",
       "<table border=\"1\" class=\"dataframe\">\n",
       "  <thead>\n",
       "    <tr style=\"text-align: right;\">\n",
       "      <th></th>\n",
       "      <th>player_name</th>\n",
       "      <th>position</th>\n",
       "      <th>match_played</th>\n",
       "      <th>assists</th>\n",
       "      <th>Position_Avg</th>\n",
       "    </tr>\n",
       "  </thead>\n",
       "  <tbody>\n",
       "    <tr>\n",
       "      <th>0</th>\n",
       "      <td>Bruno Fernandes</td>\n",
       "      <td>Midfielder</td>\n",
       "      <td>7</td>\n",
       "      <td>7</td>\n",
       "      <td>1.67</td>\n",
       "    </tr>\n",
       "  </tbody>\n",
       "</table>\n",
       "</div>"
      ],
      "text/plain": [
       "       player_name    position  match_played  assists  Position_Avg\n",
       "0  Bruno Fernandes  Midfielder             7        7          1.67"
      ]
     },
     "execution_count": 254,
     "metadata": {},
     "output_type": "execute_result"
    }
   ],
   "source": [
    "choice = input('Which player Assists would you like to view? ')\n",
    "\n",
    "ret = df_attacking[df_attacking['player_name'].str.contains(choice)]\n",
    "ret1 = ret.loc[:,['player_name', 'position', 'match_played', 'assists']]\n",
    "index = ret1['position'].iloc[0]\n",
    "\n",
    "sub = df_attacking.groupby('position').agg({'assists':'mean'}).round(2)\n",
    "ans = sub.loc[index]\n",
    "\n",
    "ret1['Position_Avg'] = ans[0]\n",
    "ret1\n"
   ]
  },
  {
   "cell_type": "code",
   "execution_count": 255,
   "id": "887dacc1",
   "metadata": {},
   "outputs": [
    {
     "data": {
      "image/png": "[encoded data removed]",
      "text/plain": [
       "<Figure size 432x288 with 1 Axes>"
      ]
     },
     "metadata": {},
     "output_type": "display_data"
    }
   ],
   "source": [
    "import matplotlib.pyplot as plt\n",
    "N = 1\n",
    "assi = list(ret1.iloc[:,3])\n",
    "po_avg = list(ret1.iloc[:,4])\n",
    "\n",
    "name = list(ret1.iloc[:,0\n",
    "])\n",
    "\n",
    "player_avg = (assi[0])\n",
    "\n",
    "\n",
    "ind = np.arange(N)  \n",
    "width = 0.25      \n",
    "\n",
    "fig = plt.figure()\n",
    "ax = fig.add_subplot(111)\n",
    "rects1 = ax.bar(ind, player_avg, width, color='royalblue')\n",
    "\n",
    "\n",
    "pos_avg = (po_avg[0])\n",
    "\n",
    "rects2 = ax.bar(ind+width, pos_avg, width, color='seagreen')\n",
    "\n",
    "# add some\n",
    "ax.set_ylabel('Assists')\n",
    "ax.set_title('Player Assists vs. Position Average')\n",
    "\n",
    "ax.set_xticks(ind + width / 0.01)\n",
    "ax.set_xticklabels\n",
    "\n",
    "ax.legend( (rects1[0], rects2[0]), (name[0], 'Position Average') )\n",
    "\n",
    "plt.show()"
   ]
  },
  {
   "cell_type": "markdown",
   "id": "18c37380",
   "metadata": {},
   "source": [
    "```GUI```"
   ]
  },
  {
   "cell_type": "code",
   "execution_count": 178,
   "id": "c796ebd2",
   "metadata": {},
   "outputs": [],
   "source": [
    "import tkinter\n",
    "import tkinter.messagebox\n",
    "\n",
    "class PlayerSearchGUI:\n",
    "    def __init__(self):\n",
    "        self.main_window = tkinter.Tk()\n",
    "        self.top_frame = tkinter.Frame(self.main_window)\n",
    "        self.bottom_frame = tkinter.Frame(self.main_window)\n",
    "        \n",
    "        self.prompt_label = tkinter.Label(self.top_frame,\n",
    "                                         text='Enter a player name')\n",
    "        self.player_entry = tkinter.Entry(self.top_frame,\n",
    "                                         width=10)\n",
    "        \n",
    "        self.prompt_label.pack(side='left')\n",
    "        self.player_entry.pack(side='left')\n",
    "        \n",
    "        self.assist_button = tkinter.Button(self.bottom_frame,\n",
    "                                            text = 'Assists',\n",
    "                                            command = self.assists)\n",
    "        self.dribble_button = tkinter.Button(self.bottom_frame,\n",
    "                                            text = 'Dribbles',\n",
    "                                            command = self.drb)\n",
    "        self.quit_button = tkinter.Button(self.bottom_frame,\n",
    "                                         text = 'Quit',\n",
    "                                         command = self.main_window.destroy)\n",
    "        \n",
    "        self.assist_button.pack(side='left')\n",
    "        self.dribble_button.pack(side='left')\n",
    "        self.quit_button.pack(side='left')\n",
    "        \n",
    "        self.top_frame.pack()\n",
    "        self.bottom_frame.pack()\n",
    "        \n",
    "        tkinter.mainloop()\n",
    "        \n",
    "    def assists(self):\n",
    "        choice = self.player_entry.get()\n",
    "        ret = df_attacking[df_attacking['player_name'].str.contains(choice)]\n",
    "        ret1 = ret.loc[:,['player_name', 'position', 'match_played', 'assists']]\n",
    "        index = ret1['position'].iloc[0]\n",
    "\n",
    "        sub = df_attacking.groupby('position').agg({'assists':'mean'}).round(2)\n",
    "        z = list(ret1.loc[:, 'assists'])\n",
    "        tkinter.messagebox.showinfo('Assists:', z[0])\n",
    "        \n",
    "    def drb(self):\n",
    "        choice1 = self.player_entry.get()\n",
    "        ret2 = df_attacking[df_attacking['player_name'].str.contains(choice)]\n",
    "        ret3 = ret.loc[:,['player_name', 'dribbles']]\n",
    "        y = list(ret1.loc[:, 'dribbles'])\n",
    "        tkinter.messagebox.showinfo('Dribbles:',y[0])\n",
    "        \n",
    "        #Can Expand to Goals, Defense, etc.\n",
    "player_search = PlayerSearchGUI()\n",
    "        "
   ]
  },
  {
   "cell_type": "code",
   "execution_count": 179,
   "id": "86ae97a0",
   "metadata": {},
   "outputs": [
    {
     "name": "stdout",
     "output_type": "stream",
     "text": [
      "1) Man. United\n",
      "2) Real Madrid\n",
      "3) Bayern\n",
      "4) Ajax\n",
      "5) Liverpool\n",
      "6) Man. City\n",
      "7) Benfica\n",
      "8) Paris\n",
      "9) Villarreal\n",
      "10) Wolfsburg\n",
      "11) Leipzig\n",
      "12) Dortmund\n",
      "13) Atalanta\n",
      "14) Sheriff\n",
      "15) Chelsea\n",
      "16) Beşiktaş\n",
      "17) Juventus\n",
      "18) Sporting CP\n",
      "19) Zenit\n",
      "20) Salzburg\n",
      "21) Atlético\n",
      "22) LOSC\n",
      "23) Inter\n",
      "24) Club Brugge\n",
      "25) Young Boys\n",
      "26) Dynamo Kyiv\n",
      "27) Sevilla\n",
      "28) Shakhtar Donetsk\n",
      "29) Milan\n",
      "30) Porto\n",
      "31) Barcelona\n",
      "32) Malmö\n",
      "Which team assists would you like to view? 2\n"
     ]
    },
    {
     "data": {
      "text/html": [
       "<div>\n",
       "<style scoped>\n",
       "    .dataframe tbody tr th:only-of-type {\n",
       "        vertical-align: middle;\n",
       "    }\n",
       "\n",
       "    .dataframe tbody tr th {\n",
       "        vertical-align: top;\n",
       "    }\n",
       "\n",
       "    .dataframe thead th {\n",
       "        text-align: right;\n",
       "    }\n",
       "</style>\n",
       "<table border=\"1\" class=\"dataframe\">\n",
       "  <thead>\n",
       "    <tr style=\"text-align: right;\">\n",
       "      <th></th>\n",
       "      <th>assists</th>\n",
       "    </tr>\n",
       "    <tr>\n",
       "      <th>club</th>\n",
       "      <th></th>\n",
       "    </tr>\n",
       "  </thead>\n",
       "  <tbody>\n",
       "    <tr>\n",
       "      <th>Real Madrid</th>\n",
       "      <td>21</td>\n",
       "    </tr>\n",
       "  </tbody>\n",
       "</table>\n",
       "</div>"
      ],
      "text/plain": [
       "             assists\n",
       "club                \n",
       "Real Madrid       21"
      ]
     },
     "execution_count": 179,
     "metadata": {},
     "output_type": "execute_result"
    }
   ],
   "source": [
    "club_ls = list(df_attacking['club'].unique())\n",
    "i = 1\n",
    "for x in club_ls:\n",
    "    print(f'{i}) {x}')\n",
    "    i+=1\n",
    "choice = int(input(\"Which team assists would you like to view? \"))\n",
    "z = club_ls[choice-1]\n",
    "df_club_sum = df_attacking.groupby('club').agg({'assists': 'sum'})\n",
    "df_club_sum[df_club_sum.index == z]"
   ]
  },
  {
   "cell_type": "markdown",
   "id": "9c0b584d",
   "metadata": {},
   "source": [
    "# Top 5 Assists and Scorers in CL"
   ]
  },
  {
   "cell_type": "code",
   "execution_count": 356,
   "id": "97f22f91",
   "metadata": {},
   "outputs": [
    {
     "data": {
      "text/html": [
       "<div>\n",
       "<style scoped>\n",
       "    .dataframe tbody tr th:only-of-type {\n",
       "        vertical-align: middle;\n",
       "    }\n",
       "\n",
       "    .dataframe tbody tr th {\n",
       "        vertical-align: top;\n",
       "    }\n",
       "\n",
       "    .dataframe thead th {\n",
       "        text-align: right;\n",
       "    }\n",
       "</style>\n",
       "<table border=\"1\" class=\"dataframe\">\n",
       "  <thead>\n",
       "    <tr style=\"text-align: right;\">\n",
       "      <th></th>\n",
       "      <th>assists</th>\n",
       "      <th>APM</th>\n",
       "    </tr>\n",
       "    <tr>\n",
       "      <th>player_name</th>\n",
       "      <th></th>\n",
       "      <th></th>\n",
       "    </tr>\n",
       "  </thead>\n",
       "  <tbody>\n",
       "    <tr>\n",
       "      <th>Bruno Fernandes</th>\n",
       "      <td>7</td>\n",
       "      <td>1.00</td>\n",
       "    </tr>\n",
       "    <tr>\n",
       "      <th>Vinícius Júnior</th>\n",
       "      <td>6</td>\n",
       "      <td>0.46</td>\n",
       "    </tr>\n",
       "    <tr>\n",
       "      <th>Sané</th>\n",
       "      <td>6</td>\n",
       "      <td>0.60</td>\n",
       "    </tr>\n",
       "    <tr>\n",
       "      <th>Antony</th>\n",
       "      <td>5</td>\n",
       "      <td>0.71</td>\n",
       "    </tr>\n",
       "    <tr>\n",
       "      <th>Alexander-Arnold</th>\n",
       "      <td>4</td>\n",
       "      <td>0.44</td>\n",
       "    </tr>\n",
       "  </tbody>\n",
       "</table>\n",
       "</div>"
      ],
      "text/plain": [
       "                  assists   APM\n",
       "player_name                    \n",
       "Bruno Fernandes         7  1.00\n",
       "Vinícius Júnior         6  0.46\n",
       "Sané                    6  0.60\n",
       "Antony                  5  0.71\n",
       "Alexander-Arnold        4  0.44"
      ]
     },
     "execution_count": 356,
     "metadata": {},
     "output_type": "execute_result"
    }
   ],
   "source": [
    "#Initiate Assists Per Match Statistic\n",
    "df_attacking['APM'] = (df_attacking['assists']/df_attacking['match_played']).round(2)\n",
    "\n",
    "#Aggregate top Assists players + APM\n",
    "df_top_assists = df_attacking.groupby('player_name').agg({'assists':'sum', 'APM':'sum'})\n",
    "df_top_assists.sort_values(by=['assists'], ascending=False, inplace=True)\n",
    "top5_assists = df_top_assists.head(5)\n",
    "top5_assists"
   ]
  },
  {
   "cell_type": "code",
   "execution_count": 357,
   "id": "8e7327f2",
   "metadata": {},
   "outputs": [
    {
     "data": {
      "image/png": "[encoded data removed]",
      "text/plain": [
       "<Figure size 432x288 with 1 Axes>"
      ]
     },
     "metadata": {},
     "output_type": "display_data"
    }
   ],
   "source": [
    "#Bar Graph Visualization of top 5 Assist + APM CL Players\n",
    "\n",
    "#Data\n",
    "x = top5_assists.index\n",
    "y = top5_as \n",
    "\n",
    "#plt.plot(x, y, color = 'm')\n",
    "# creating the bar plot\n",
    "plt.bar(x, y, color ='maroon',\n",
    "        width = 0.4)\n",
    "plt.title('Top 5 Assists + APM CL Players')\n",
    "plt.ylabel('Assists')\n",
    "plt.xlabel('Player Names')\n",
    "\n",
    "# Add text\n",
    "plt.text(-0.25, 3.5, f'{df_top_assists.iloc[0,1]} APM')\n",
    "plt.text(.75, 3.5, f'{df_top_assists.iloc[1,1]} APM')\n",
    "plt.text(1.78, 3.5, f'{df_top_assists.iloc[2,1]} APM')\n",
    "plt.text(2.78, 3.5, f'{df_top_assists.iloc[3,1]} APM')\n",
    "plt.text(3.78, 3.5, f'{df_top_assists.iloc[4,1]} APM')\n",
    "# Display Graph\n",
    "plt.show()"
   ]
  },
  {
   "cell_type": "code",
   "execution_count": 353,
   "id": "b4068082",
   "metadata": {},
   "outputs": [
    {
     "data": {
      "text/html": [
       "<div>\n",
       "<style scoped>\n",
       "    .dataframe tbody tr th:only-of-type {\n",
       "        vertical-align: middle;\n",
       "    }\n",
       "\n",
       "    .dataframe tbody tr th {\n",
       "        vertical-align: top;\n",
       "    }\n",
       "\n",
       "    .dataframe thead th {\n",
       "        text-align: right;\n",
       "    }\n",
       "</style>\n",
       "<table border=\"1\" class=\"dataframe\">\n",
       "  <thead>\n",
       "    <tr style=\"text-align: right;\">\n",
       "      <th></th>\n",
       "      <th>goals</th>\n",
       "    </tr>\n",
       "    <tr>\n",
       "      <th>player_name</th>\n",
       "      <th></th>\n",
       "    </tr>\n",
       "  </thead>\n",
       "  <tbody>\n",
       "    <tr>\n",
       "      <th>Benzema</th>\n",
       "      <td>15</td>\n",
       "    </tr>\n",
       "    <tr>\n",
       "      <th>Lewandowski</th>\n",
       "      <td>13</td>\n",
       "    </tr>\n",
       "    <tr>\n",
       "      <th>Haller</th>\n",
       "      <td>11</td>\n",
       "    </tr>\n",
       "    <tr>\n",
       "      <th>Salah</th>\n",
       "      <td>8</td>\n",
       "    </tr>\n",
       "    <tr>\n",
       "      <th>Nkunku</th>\n",
       "      <td>7</td>\n",
       "    </tr>\n",
       "  </tbody>\n",
       "</table>\n",
       "</div>"
      ],
      "text/plain": [
       "             goals\n",
       "player_name       \n",
       "Benzema         15\n",
       "Lewandowski     13\n",
       "Haller          11\n",
       "Salah            8\n",
       "Nkunku           7"
      ]
     },
     "execution_count": 353,
     "metadata": {},
     "output_type": "execute_result"
    }
   ],
   "source": [
    "gls = df_goals.groupby('player_name').agg({'goals':'sum'})\n",
    "top5_goals = gls.sort_values(by='goals', ascending=False).head(5)\n",
    "top5_goals"
   ]
  },
  {
   "cell_type": "code",
   "execution_count": 370,
   "id": "7738f9e7",
   "metadata": {},
   "outputs": [],
   "source": [
    "gls_attributes = df_goals.groupby('player_name').agg({'goals':'sum', 'right_foot':'sum', \\\n",
    "                                                     'left_foot': 'sum', 'headers':'sum', \\\n",
    "                                                     'others': 'sum'})\n",
    "gls_attributes1 = gls_attributes.sort_values(by='goals', ascending=False).head(5)"
   ]
  },
  {
   "cell_type": "code",
   "execution_count": 382,
   "id": "25f2eab9",
   "metadata": {},
   "outputs": [
    {
     "data": {
      "image/png": "[encoded data removed]",
      "text/plain": [
       "<Figure size 432x288 with 1 Axes>"
      ]
     },
     "metadata": {},
     "output_type": "display_data"
    },
    {
     "data": {
      "image/png": "[encoded data removed]",
      "text/plain": [
       "<Figure size 432x288 with 1 Axes>"
      ]
     },
     "metadata": {},
     "output_type": "display_data"
    },
    {
     "data": {
      "image/png": "[encoded data removed]",
      "text/plain": [
       "<Figure size 432x288 with 1 Axes>"
      ]
     },
     "metadata": {},
     "output_type": "display_data"
    },
    {
     "data": {
      "image/png": "[encoded data removed]",
      "text/plain": [
       "<Figure size 432x288 with 1 Axes>"
      ]
     },
     "metadata": {},
     "output_type": "display_data"
    },
    {
     "data": {
      "image/png": "[encoded data removed]",
      "text/plain": [
       "<Figure size 432x288 with 1 Axes>"
      ]
     },
     "metadata": {},
     "output_type": "display_data"
    }
   ],
   "source": [
    "for t in range(5):\n",
    "    x = list(gls_attributes1.iloc[t,1:])\n",
    "    data = x\n",
    "    labels = ['Right Foot', 'Left Foot', 'Headers', 'Other']\n",
    "\n",
    "    #define Seaborn color palette to use\n",
    "    colors = sns.color_palette('bright')[0:4]\n",
    "    #create pie chart\n",
    "    plt.pie(data, labels = labels, colors = colors, autopct='%.0f%%')\n",
    "    plt.title(gls_attributes1.index[t])\n",
    "    plt.show()\n",
    "    "
   ]
  }
 ],
 "metadata": {
  "kernelspec": {
   "display_name": "Python 3 (ipykernel)",
   "language": "python",
   "name": "python3"
  },
  "language_info": {
   "codemirror_mode": {
    "name": "ipython",
    "version": 3
   },
   "file_extension": ".py",
   "mimetype": "text/x-python",
   "name": "python",
   "nbconvert_exporter": "python",
   "pygments_lexer": "ipython3",
   "version": "3.9.7"
  }
 },
 "nbformat": 4,
 "nbformat_minor": 5
}
